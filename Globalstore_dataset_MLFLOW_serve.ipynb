{
 "cells": [
  {
   "cell_type": "code",
   "execution_count": 1,
   "id": "7cc6963c-5d16-4e00-93b4-09cfb02eecdb",
   "metadata": {},
   "outputs": [],
   "source": [
    "import os\n",
    "os.environ['GIT_PYTHON_REFRESH']='quiet'\n",
    "os.environ['MLFLOW_TRACKING_URI']='file:///Users/JANARDHAN/Documents/Janardhan/m2'"
   ]
  },
  {
   "cell_type": "code",
   "execution_count": 3,
   "id": "2102802d-308d-4228-b644-32cae92966c3",
   "metadata": {},
   "outputs": [
    {
     "name": "stdout",
     "output_type": "stream",
     "text": [
      "                             run_id       experiment_id    status  \\\n",
      "0  481311154b784132a4ccdaf9932eea31  118061652871826035  FINISHED   \n",
      "1  9e1ad4a9a78b40f2a720be833d32e57d  555342519996260206  FINISHED   \n",
      "2  636436c1f7ae42fca8aa3aee0060b8bd  555342519996260206  FINISHED   \n",
      "\n",
      "                                        artifact_uri  \\\n",
      "0  file:///C:/Users/JANARDHAN/Documents/Janardhan...   \n",
      "1  file:///C:/Users/JANARDHAN/Documents/Janardhan...   \n",
      "2  file:///C:/Users/JANARDHAN/Documents/Janardhan...   \n",
      "\n",
      "                        start_time                         end_time  \\\n",
      "0 2025-02-02 15:31:52.359000+00:00 2025-02-02 15:34:44.089000+00:00   \n",
      "1 2025-01-30 03:10:43.238000+00:00 2025-01-30 03:11:18.985000+00:00   \n",
      "2 2025-01-29 03:18:41.717000+00:00 2025-01-29 03:19:17.838000+00:00   \n",
      "\n",
      "   metrics.gbm_training_score  metrics.rf_training_score  \\\n",
      "0                    0.333161                   0.004098   \n",
      "1                    1.000000                   1.000000   \n",
      "2                    1.000000                   1.000000   \n",
      "\n",
      "   metrics.gbm_testing_score  metrics.rf_testing_score  ...  \\\n",
      "0                        NaN                       NaN  ...   \n",
      "1                        1.0                       1.0  ...   \n",
      "2                        1.0                       1.0  ...   \n",
      "\n",
      "  params.gbm_minimum_samples_split params.rf_max_depth params.gbm_max_depth  \\\n",
      "0                                5                   6                    6   \n",
      "1                                5                   6                    6   \n",
      "2                                5                   6                    6   \n",
      "\n",
      "                       tags.mlflow.log-model.history  \\\n",
      "0  [{\"run_id\": \"481311154b784132a4ccdaf9932eea31\"...   \n",
      "1  [{\"run_id\": \"9e1ad4a9a78b40f2a720be833d32e57d\"...   \n",
      "2  [{\"run_id\": \"636436c1f7ae42fca8aa3aee0060b8bd\"...   \n",
      "\n",
      "                             tags.mlflow.source.name tags.mlflow.runName  \\\n",
      "0  C:\\Users\\JANARDHAN\\anaconda3\\Lib\\site-packages...       angry-eel-950   \n",
      "1  C:\\Users\\JANARDHAN\\anaconda3\\Lib\\site-packages...    grandiose-fish-0   \n",
      "2  C:\\Users\\JANARDHAN\\anaconda3\\Lib\\site-packages...      clean-croc-586   \n",
      "\n",
      "  tags.mlflow.user tags.mlflow.source.type tags.iteration_name  \\\n",
      "0        JANARDHAN                   LOCAL                None   \n",
      "1        JANARDHAN                   LOCAL  test_rf_gb_sklearn   \n",
      "2        JANARDHAN                   LOCAL  test_rf_gb_sklearn   \n",
      "\n",
      "  tags.feature_set_version  \n",
      "0                     None  \n",
      "1             loan default  \n",
      "2             loan default  \n",
      "\n",
      "[3 rows x 23 columns]\n"
     ]
    }
   ],
   "source": [
    "import mlflow\n",
    "\n",
    "all_runs = mlflow.search_runs(search_all_experiments=True)\n",
    "print(all_runs)"
   ]
  },
  {
   "cell_type": "code",
   "execution_count": null,
   "id": "cbf94313-030a-485a-859a-3e32fc26b399",
   "metadata": {},
   "outputs": [],
   "source": [
    "!mlflow models serve -p 8004 -m runs:/481311154b784132a4ccdaf9932eea31/random-forest-model  --no-conda"
   ]
  },
  {
   "cell_type": "code",
   "execution_count": null,
   "id": "66df8dc8-a373-4185-879a-967fc8b46274",
   "metadata": {},
   "outputs": [],
   "source": []
  }
 ],
 "metadata": {
  "kernelspec": {
   "display_name": "Python 3 (ipykernel)",
   "language": "python",
   "name": "python3"
  },
  "language_info": {
   "codemirror_mode": {
    "name": "ipython",
    "version": 3
   },
   "file_extension": ".py",
   "mimetype": "text/x-python",
   "name": "python",
   "nbconvert_exporter": "python",
   "pygments_lexer": "ipython3",
   "version": "3.11.7"
  }
 },
 "nbformat": 4,
 "nbformat_minor": 5
}
