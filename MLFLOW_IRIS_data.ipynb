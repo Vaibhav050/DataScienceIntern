{
 "cells": [
  {
   "cell_type": "code",
   "execution_count": 1,
   "id": "6ebdd9c0-f573-48df-921e-016a05fb7c25",
   "metadata": {},
   "outputs": [],
   "source": [
    "from sklearn import datasets\n",
    "from sklearn.model_selection import train_test_split\n",
    "from sklearn.preprocessing import StandardScaler\n",
    "\n",
    "# Load Iris dataset\n",
    "iris = datasets.load_iris()\n",
    "X = iris.data\n",
    "y = iris.target\n",
    "\n",
    "# Split data into train and test sets\n",
    "X_train, X_test, y_train, y_test = train_test_split(X, y, test_size=0.2, random_state=42)"
   ]
  },
  {
   "cell_type": "code",
   "execution_count": 2,
   "id": "0153a90e-446d-448d-be2c-cd1dea36e7fa",
   "metadata": {},
   "outputs": [
    {
     "name": "stderr",
     "output_type": "stream",
     "text": [
      "C:\\Users\\JANARDHAN\\anaconda3\\Lib\\site-packages\\mlflow\\protos\\service_pb2.py:11: UserWarning: google.protobuf.service module is deprecated. RPC implementations should provide code generator plugins which generate code specific to the RPC implementation. service.py will be removed in Jan 2025\n",
      "  from google.protobuf import service as _service\n"
     ]
    }
   ],
   "source": [
    "import mlflow"
   ]
  },
  {
   "cell_type": "code",
   "execution_count": 3,
   "id": "f99e8b20-cee3-42f4-a666-748f01f741bb",
   "metadata": {},
   "outputs": [],
   "source": [
    "import os\n",
    "os.environ['GIT_PYTHON_REFRESH']='quiet'\n",
    "#os.environ['MLFLOW_TRACKING_URI']='file:///Users/JANARDHAN/Documents/Janardhan/m1/e1'\n",
    "os.environ['MLFLOW_TRACKING_URI']='file:///Users/JANARDHAN/Documents/Janardhan/m2'"
   ]
  },
  {
   "cell_type": "code",
   "execution_count": 4,
   "id": "a186e7a4-cb6a-4bd3-bd56-bac4d4e71c73",
   "metadata": {},
   "outputs": [],
   "source": [
    "mlflow.set_experiment(\"iris-analysis\")\n",
    "mlflow.set_experiment_tag('iris-tag','ex1')"
   ]
  },
  {
   "cell_type": "code",
   "execution_count": 5,
   "id": "74873016-8a27-4d52-a975-4531412ec04c",
   "metadata": {},
   "outputs": [
    {
     "name": "stderr",
     "output_type": "stream",
     "text": [
      "C:\\Users\\JANARDHAN\\anaconda3\\Lib\\site-packages\\_distutils_hack\\__init__.py:33: UserWarning: Setuptools is replacing distutils.\n",
      "  warnings.warn(\"Setuptools is replacing distutils.\")\n"
     ]
    }
   ],
   "source": [
    "with mlflow.start_run():    \n",
    "    from sklearn.ensemble import RandomForestClassifier\n",
    "    from sklearn.ensemble import GradientBoostingClassifier\n",
    "    from sklearn.metrics import accuracy_score\n",
    "    \n",
    "    # model object initialization\n",
    "    RandFor=RandomForestClassifier(n_estimators=5000,max_depth=6)\n",
    "    GBM=GradientBoostingClassifier(n_estimators=3000,max_depth=6,learning_rate=0.01,min_samples_split=5)\n",
    "    rf_n_estimators=5000\n",
    "    #logging parameters\n",
    "    mlflow.log_param(\"n_estimators\",rf_n_estimators)\n",
    "    mlflow.log_param('rf_max_depth',6)\n",
    "    mlflow.log_param('gbm_n_estimators',3000)\n",
    "    mlflow.log_param('gbm_max_depth',6)\n",
    "    mlflow.log_param('gbm_learning_rate',0.01)\n",
    "    mlflow.log_param('gbm_minimum_samples_split',5)\n",
    "    \n",
    "    #training models\n",
    "    rf=RandFor.fit(X_train,y_train)\n",
    "    gbm=GBM.fit(X_train,y_train)\n",
    "    \n",
    "    #training scores\n",
    "    training_score_rf=RandFor.score(X_train,y_train)\n",
    "    training_score_gbm=GBM.score(X_train,y_train)\n",
    "    \n",
    "    #logging training score\n",
    "    mlflow.log_metric(\"rf_training_score\", training_score_rf)\n",
    "    mlflow.log_metric(\"gbm_training_score\",training_score_gbm)\n",
    "    \n",
    "    #value predictions\n",
    "    y_pred_rf=rf.predict(X_test)\n",
    "    y_pred_gbm=gbm.predict(X_test)\n",
    "    \n",
    "    #prediction evaluations\n",
    "    testing_score_rf=accuracy_score(y_pred_rf,y_test)\n",
    "    testing_score_gbm=accuracy_score(y_pred_gbm,y_test)\n",
    "    \n",
    "    #logging evaluation scores\n",
    "    mlflow.log_metric(\"rf_testing_score\", testing_score_rf)\n",
    "    mlflow.log_metric(\"gbm_testing_score\",testing_score_gbm)\n",
    "    \n",
    "    #logging models\n",
    "    mlflow.sklearn.log_model(rf, \"random-forest-model\")\n",
    "    mlflow.sklearn.log_model(gbm, \"gradient-boosting-model\")\n",
    "    mlflow.set_tag(\"iteration_name\", \"test_rf_gb_sklearn\")\n",
    "    mlflow.set_tag(\"feature_set_version\", \"loan default\")"
   ]
  },
  {
   "cell_type": "code",
   "execution_count": null,
   "id": "5dc8805b-2d6b-47ed-91e9-ad69a5ca3549",
   "metadata": {},
   "outputs": [],
   "source": [
    "# mlflow ui --backend-store-uri='file:///Users/JANARDHAN/Documents/Janardhan/m2'"
   ]
  },
  {
   "cell_type": "code",
   "execution_count": null,
   "id": "4acb28b1-6a5b-435a-8e28-ebd4dffe89e3",
   "metadata": {},
   "outputs": [],
   "source": [
    "#!pip install mlflow"
   ]
  }
 ],
 "metadata": {
  "kernelspec": {
   "display_name": "Python 3 (ipykernel)",
   "language": "python",
   "name": "python3"
  },
  "language_info": {
   "codemirror_mode": {
    "name": "ipython",
    "version": 3
   },
   "file_extension": ".py",
   "mimetype": "text/x-python",
   "name": "python",
   "nbconvert_exporter": "python",
   "pygments_lexer": "ipython3",
   "version": "3.11.7"
  }
 },
 "nbformat": 4,
 "nbformat_minor": 5
}
