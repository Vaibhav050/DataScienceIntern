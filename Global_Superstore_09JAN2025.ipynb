{
 "cells": [
  {
   "cell_type": "code",
   "execution_count": null,
   "id": "2444e8b4-8c5f-4f02-b94d-b236bcc91cba",
   "metadata": {},
   "outputs": [],
   "source": [
    "#https://www.tableau.com/sites/default/files/training/global_superstore.zip"
   ]
  },
  {
   "cell_type": "code",
   "execution_count": 2,
   "id": "aa15fc10-ddf3-4b86-b5f9-93c2846501e1",
   "metadata": {},
   "outputs": [],
   "source": [
    "import pandas as pd\n",
    "import numpy as np\n",
    "import matplotlib.pyplot as plt\n",
    "%matplotlib inline "
   ]
  },
  {
   "cell_type": "code",
   "execution_count": 8,
   "id": "7766c7da-196f-419f-b345-f0ac8f012232",
   "metadata": {},
   "outputs": [],
   "source": [
    "df = pd.read_excel(\"global_superstore.xls\") #Read data from an excel file"
   ]
  },
  {
   "cell_type": "code",
   "execution_count": 10,
   "id": "dd42be48-3643-4db3-ae94-d155c43b9309",
   "metadata": {},
   "outputs": [
    {
     "data": {
      "text/plain": [
       "Index(['Row ID', 'Order ID', 'Order Date', 'Ship Date', 'Ship Mode',\n",
       "       'Customer ID', 'Customer Name', 'Segment', 'City', 'State', 'Country',\n",
       "       'Postal Code', 'Market', 'Region', 'Product ID', 'Category',\n",
       "       'Sub-Category', 'Product Name', 'Sales', 'Quantity', 'Discount',\n",
       "       'Profit', 'Shipping Cost', 'Order Priority'],\n",
       "      dtype='object')"
      ]
     },
     "execution_count": 10,
     "metadata": {},
     "output_type": "execute_result"
    }
   ],
   "source": [
    "df.columns #List columns names"
   ]
  },
  {
   "cell_type": "code",
   "execution_count": 12,
   "id": "35d1c4f0-b2a9-4317-98d7-0579fcdda04c",
   "metadata": {},
   "outputs": [
    {
     "data": {
      "text/plain": [
       "(51290, 24)"
      ]
     },
     "execution_count": 12,
     "metadata": {},
     "output_type": "execute_result"
    }
   ],
   "source": [
    "df.shape #get the dimensions of dataframe"
   ]
  },
  {
   "cell_type": "code",
   "execution_count": 16,
   "id": "58838a45-d06a-4dc4-8344-5f719f07b963",
   "metadata": {},
   "outputs": [
    {
     "data": {
      "text/html": [
       "<div>\n",
       "<style scoped>\n",
       "    .dataframe tbody tr th:only-of-type {\n",
       "        vertical-align: middle;\n",
       "    }\n",
       "\n",
       "    .dataframe tbody tr th {\n",
       "        vertical-align: top;\n",
       "    }\n",
       "\n",
       "    .dataframe thead th {\n",
       "        text-align: right;\n",
       "    }\n",
       "</style>\n",
       "<table border=\"1\" class=\"dataframe\">\n",
       "  <thead>\n",
       "    <tr style=\"text-align: right;\">\n",
       "      <th></th>\n",
       "      <th>Row ID</th>\n",
       "      <th>Order Date</th>\n",
       "      <th>Ship Date</th>\n",
       "      <th>Postal Code</th>\n",
       "      <th>Sales</th>\n",
       "      <th>Quantity</th>\n",
       "      <th>Discount</th>\n",
       "      <th>Profit</th>\n",
       "      <th>Shipping Cost</th>\n",
       "    </tr>\n",
       "  </thead>\n",
       "  <tbody>\n",
       "    <tr>\n",
       "      <th>count</th>\n",
       "      <td>51290.00000</td>\n",
       "      <td>51290</td>\n",
       "      <td>51290</td>\n",
       "      <td>9994.000000</td>\n",
       "      <td>51290.000000</td>\n",
       "      <td>51290.000000</td>\n",
       "      <td>51290.000000</td>\n",
       "      <td>51290.000000</td>\n",
       "      <td>51290.000000</td>\n",
       "    </tr>\n",
       "    <tr>\n",
       "      <th>mean</th>\n",
       "      <td>25645.50000</td>\n",
       "      <td>2013-05-11 21:26:49.155781120</td>\n",
       "      <td>2013-05-15 20:42:42.745174528</td>\n",
       "      <td>55190.379428</td>\n",
       "      <td>246.490581</td>\n",
       "      <td>3.476545</td>\n",
       "      <td>0.142908</td>\n",
       "      <td>28.610982</td>\n",
       "      <td>26.375818</td>\n",
       "    </tr>\n",
       "    <tr>\n",
       "      <th>min</th>\n",
       "      <td>1.00000</td>\n",
       "      <td>2011-01-01 00:00:00</td>\n",
       "      <td>2011-01-03 00:00:00</td>\n",
       "      <td>1040.000000</td>\n",
       "      <td>0.444000</td>\n",
       "      <td>1.000000</td>\n",
       "      <td>0.000000</td>\n",
       "      <td>-6599.978000</td>\n",
       "      <td>0.002000</td>\n",
       "    </tr>\n",
       "    <tr>\n",
       "      <th>25%</th>\n",
       "      <td>12823.25000</td>\n",
       "      <td>2012-06-19 00:00:00</td>\n",
       "      <td>2012-06-23 00:00:00</td>\n",
       "      <td>23223.000000</td>\n",
       "      <td>30.758625</td>\n",
       "      <td>2.000000</td>\n",
       "      <td>0.000000</td>\n",
       "      <td>0.000000</td>\n",
       "      <td>2.610000</td>\n",
       "    </tr>\n",
       "    <tr>\n",
       "      <th>50%</th>\n",
       "      <td>25645.50000</td>\n",
       "      <td>2013-07-08 00:00:00</td>\n",
       "      <td>2013-07-12 00:00:00</td>\n",
       "      <td>56430.500000</td>\n",
       "      <td>85.053000</td>\n",
       "      <td>3.000000</td>\n",
       "      <td>0.000000</td>\n",
       "      <td>9.240000</td>\n",
       "      <td>7.790000</td>\n",
       "    </tr>\n",
       "    <tr>\n",
       "      <th>75%</th>\n",
       "      <td>38467.75000</td>\n",
       "      <td>2014-05-22 00:00:00</td>\n",
       "      <td>2014-05-26 00:00:00</td>\n",
       "      <td>90008.000000</td>\n",
       "      <td>251.053200</td>\n",
       "      <td>5.000000</td>\n",
       "      <td>0.200000</td>\n",
       "      <td>36.810000</td>\n",
       "      <td>24.450000</td>\n",
       "    </tr>\n",
       "    <tr>\n",
       "      <th>max</th>\n",
       "      <td>51290.00000</td>\n",
       "      <td>2014-12-31 00:00:00</td>\n",
       "      <td>2015-01-07 00:00:00</td>\n",
       "      <td>99301.000000</td>\n",
       "      <td>22638.480000</td>\n",
       "      <td>14.000000</td>\n",
       "      <td>0.850000</td>\n",
       "      <td>8399.976000</td>\n",
       "      <td>933.570000</td>\n",
       "    </tr>\n",
       "    <tr>\n",
       "      <th>std</th>\n",
       "      <td>14806.29199</td>\n",
       "      <td>NaN</td>\n",
       "      <td>NaN</td>\n",
       "      <td>32063.693350</td>\n",
       "      <td>487.565361</td>\n",
       "      <td>2.278766</td>\n",
       "      <td>0.212280</td>\n",
       "      <td>174.340972</td>\n",
       "      <td>57.296810</td>\n",
       "    </tr>\n",
       "  </tbody>\n",
       "</table>\n",
       "</div>"
      ],
      "text/plain": [
       "            Row ID                     Order Date  \\\n",
       "count  51290.00000                          51290   \n",
       "mean   25645.50000  2013-05-11 21:26:49.155781120   \n",
       "min        1.00000            2011-01-01 00:00:00   \n",
       "25%    12823.25000            2012-06-19 00:00:00   \n",
       "50%    25645.50000            2013-07-08 00:00:00   \n",
       "75%    38467.75000            2014-05-22 00:00:00   \n",
       "max    51290.00000            2014-12-31 00:00:00   \n",
       "std    14806.29199                            NaN   \n",
       "\n",
       "                           Ship Date   Postal Code         Sales  \\\n",
       "count                          51290   9994.000000  51290.000000   \n",
       "mean   2013-05-15 20:42:42.745174528  55190.379428    246.490581   \n",
       "min              2011-01-03 00:00:00   1040.000000      0.444000   \n",
       "25%              2012-06-23 00:00:00  23223.000000     30.758625   \n",
       "50%              2013-07-12 00:00:00  56430.500000     85.053000   \n",
       "75%              2014-05-26 00:00:00  90008.000000    251.053200   \n",
       "max              2015-01-07 00:00:00  99301.000000  22638.480000   \n",
       "std                              NaN  32063.693350    487.565361   \n",
       "\n",
       "           Quantity      Discount        Profit  Shipping Cost  \n",
       "count  51290.000000  51290.000000  51290.000000   51290.000000  \n",
       "mean       3.476545      0.142908     28.610982      26.375818  \n",
       "min        1.000000      0.000000  -6599.978000       0.002000  \n",
       "25%        2.000000      0.000000      0.000000       2.610000  \n",
       "50%        3.000000      0.000000      9.240000       7.790000  \n",
       "75%        5.000000      0.200000     36.810000      24.450000  \n",
       "max       14.000000      0.850000   8399.976000     933.570000  \n",
       "std        2.278766      0.212280    174.340972      57.296810  "
      ]
     },
     "execution_count": 16,
     "metadata": {},
     "output_type": "execute_result"
    }
   ],
   "source": [
    "df.describe() #summary statistics for numerical columns"
   ]
  },
  {
   "cell_type": "code",
   "execution_count": 18,
   "id": "87bc57fc-b96d-4dfc-abac-e1a984245f41",
   "metadata": {},
   "outputs": [
    {
     "data": {
      "text/plain": [
       "Row ID                     int64\n",
       "Order ID                  object\n",
       "Order Date        datetime64[ns]\n",
       "Ship Date         datetime64[ns]\n",
       "Ship Mode                 object\n",
       "Customer ID               object\n",
       "Customer Name             object\n",
       "Segment                   object\n",
       "City                      object\n",
       "State                     object\n",
       "Country                   object\n",
       "Postal Code              float64\n",
       "Market                    object\n",
       "Region                    object\n",
       "Product ID                object\n",
       "Category                  object\n",
       "Sub-Category              object\n",
       "Product Name              object\n",
       "Sales                    float64\n",
       "Quantity                   int64\n",
       "Discount                 float64\n",
       "Profit                   float64\n",
       "Shipping Cost            float64\n",
       "Order Priority            object\n",
       "dtype: object"
      ]
     },
     "execution_count": 18,
     "metadata": {},
     "output_type": "execute_result"
    }
   ],
   "source": [
    "df.dtypes #check data types of columns"
   ]
  },
  {
   "cell_type": "code",
   "execution_count": 20,
   "id": "8b02b7a2-dabb-4df5-8d86-d931459ff674",
   "metadata": {},
   "outputs": [
    {
     "data": {
      "text/plain": [
       "Row ID                0\n",
       "Order ID              0\n",
       "Order Date            0\n",
       "Ship Date             0\n",
       "Ship Mode             0\n",
       "Customer ID           0\n",
       "Customer Name         0\n",
       "Segment               0\n",
       "City                  0\n",
       "State                 0\n",
       "Country               0\n",
       "Postal Code       41296\n",
       "Market                0\n",
       "Region                0\n",
       "Product ID            0\n",
       "Category              0\n",
       "Sub-Category          0\n",
       "Product Name          0\n",
       "Sales                 0\n",
       "Quantity              0\n",
       "Discount              0\n",
       "Profit                0\n",
       "Shipping Cost         0\n",
       "Order Priority        0\n",
       "dtype: int64"
      ]
     },
     "execution_count": 20,
     "metadata": {},
     "output_type": "execute_result"
    }
   ],
   "source": [
    "df.isnull().sum() #check for null values"
   ]
  },
  {
   "cell_type": "code",
   "execution_count": 116,
   "id": "14834abf-5826-43ab-b3e2-52a28baf35f8",
   "metadata": {},
   "outputs": [],
   "source": [
    "# Select and create a new DataFrame 'df_num' containing only numerical columns from 'df'\n",
    "df_num = df.select_dtypes(include=[np.number])\n",
    "\n",
    "# Select and create a new DataFrame 'df_cat' containing only categorical (object) columns from 'df'\n",
    "df_cat = df.select_dtypes(include=['object'])"
   ]
  },
  {
   "cell_type": "code",
   "execution_count": 24,
   "id": "bbd62b2f-ad3f-4ba3-aecb-7a9287cb03e9",
   "metadata": {},
   "outputs": [
    {
     "data": {
      "text/html": [
       "<div>\n",
       "<style scoped>\n",
       "    .dataframe tbody tr th:only-of-type {\n",
       "        vertical-align: middle;\n",
       "    }\n",
       "\n",
       "    .dataframe tbody tr th {\n",
       "        vertical-align: top;\n",
       "    }\n",
       "\n",
       "    .dataframe thead th {\n",
       "        text-align: right;\n",
       "    }\n",
       "</style>\n",
       "<table border=\"1\" class=\"dataframe\">\n",
       "  <thead>\n",
       "    <tr style=\"text-align: right;\">\n",
       "      <th></th>\n",
       "      <th>Row ID</th>\n",
       "      <th>Postal Code</th>\n",
       "      <th>Sales</th>\n",
       "      <th>Quantity</th>\n",
       "      <th>Discount</th>\n",
       "      <th>Profit</th>\n",
       "      <th>Shipping Cost</th>\n",
       "    </tr>\n",
       "  </thead>\n",
       "  <tbody>\n",
       "    <tr>\n",
       "      <th>count</th>\n",
       "      <td>51290.00000</td>\n",
       "      <td>9994.000000</td>\n",
       "      <td>51290.000000</td>\n",
       "      <td>51290.000000</td>\n",
       "      <td>51290.000000</td>\n",
       "      <td>51290.000000</td>\n",
       "      <td>51290.000000</td>\n",
       "    </tr>\n",
       "    <tr>\n",
       "      <th>mean</th>\n",
       "      <td>25645.50000</td>\n",
       "      <td>55190.379428</td>\n",
       "      <td>246.490581</td>\n",
       "      <td>3.476545</td>\n",
       "      <td>0.142908</td>\n",
       "      <td>28.610982</td>\n",
       "      <td>26.375818</td>\n",
       "    </tr>\n",
       "    <tr>\n",
       "      <th>std</th>\n",
       "      <td>14806.29199</td>\n",
       "      <td>32063.693350</td>\n",
       "      <td>487.565361</td>\n",
       "      <td>2.278766</td>\n",
       "      <td>0.212280</td>\n",
       "      <td>174.340972</td>\n",
       "      <td>57.296810</td>\n",
       "    </tr>\n",
       "    <tr>\n",
       "      <th>min</th>\n",
       "      <td>1.00000</td>\n",
       "      <td>1040.000000</td>\n",
       "      <td>0.444000</td>\n",
       "      <td>1.000000</td>\n",
       "      <td>0.000000</td>\n",
       "      <td>-6599.978000</td>\n",
       "      <td>0.002000</td>\n",
       "    </tr>\n",
       "    <tr>\n",
       "      <th>25%</th>\n",
       "      <td>12823.25000</td>\n",
       "      <td>23223.000000</td>\n",
       "      <td>30.758625</td>\n",
       "      <td>2.000000</td>\n",
       "      <td>0.000000</td>\n",
       "      <td>0.000000</td>\n",
       "      <td>2.610000</td>\n",
       "    </tr>\n",
       "    <tr>\n",
       "      <th>50%</th>\n",
       "      <td>25645.50000</td>\n",
       "      <td>56430.500000</td>\n",
       "      <td>85.053000</td>\n",
       "      <td>3.000000</td>\n",
       "      <td>0.000000</td>\n",
       "      <td>9.240000</td>\n",
       "      <td>7.790000</td>\n",
       "    </tr>\n",
       "    <tr>\n",
       "      <th>75%</th>\n",
       "      <td>38467.75000</td>\n",
       "      <td>90008.000000</td>\n",
       "      <td>251.053200</td>\n",
       "      <td>5.000000</td>\n",
       "      <td>0.200000</td>\n",
       "      <td>36.810000</td>\n",
       "      <td>24.450000</td>\n",
       "    </tr>\n",
       "    <tr>\n",
       "      <th>max</th>\n",
       "      <td>51290.00000</td>\n",
       "      <td>99301.000000</td>\n",
       "      <td>22638.480000</td>\n",
       "      <td>14.000000</td>\n",
       "      <td>0.850000</td>\n",
       "      <td>8399.976000</td>\n",
       "      <td>933.570000</td>\n",
       "    </tr>\n",
       "  </tbody>\n",
       "</table>\n",
       "</div>"
      ],
      "text/plain": [
       "            Row ID   Postal Code         Sales      Quantity      Discount  \\\n",
       "count  51290.00000   9994.000000  51290.000000  51290.000000  51290.000000   \n",
       "mean   25645.50000  55190.379428    246.490581      3.476545      0.142908   \n",
       "std    14806.29199  32063.693350    487.565361      2.278766      0.212280   \n",
       "min        1.00000   1040.000000      0.444000      1.000000      0.000000   \n",
       "25%    12823.25000  23223.000000     30.758625      2.000000      0.000000   \n",
       "50%    25645.50000  56430.500000     85.053000      3.000000      0.000000   \n",
       "75%    38467.75000  90008.000000    251.053200      5.000000      0.200000   \n",
       "max    51290.00000  99301.000000  22638.480000     14.000000      0.850000   \n",
       "\n",
       "             Profit  Shipping Cost  \n",
       "count  51290.000000   51290.000000  \n",
       "mean      28.610982      26.375818  \n",
       "std      174.340972      57.296810  \n",
       "min    -6599.978000       0.002000  \n",
       "25%        0.000000       2.610000  \n",
       "50%        9.240000       7.790000  \n",
       "75%       36.810000      24.450000  \n",
       "max     8399.976000     933.570000  "
      ]
     },
     "execution_count": 24,
     "metadata": {},
     "output_type": "execute_result"
    }
   ],
   "source": [
    "df_num.describe() #Display Summary Statistics for numerical Columns"
   ]
  },
  {
   "cell_type": "code",
   "execution_count": 30,
   "id": "4567e255-c85c-407b-adee-1d805dbe351c",
   "metadata": {},
   "outputs": [
    {
     "data": {
      "text/html": [
       "<div>\n",
       "<style scoped>\n",
       "    .dataframe tbody tr th:only-of-type {\n",
       "        vertical-align: middle;\n",
       "    }\n",
       "\n",
       "    .dataframe tbody tr th {\n",
       "        vertical-align: top;\n",
       "    }\n",
       "\n",
       "    .dataframe thead th {\n",
       "        text-align: right;\n",
       "    }\n",
       "</style>\n",
       "<table border=\"1\" class=\"dataframe\">\n",
       "  <thead>\n",
       "    <tr style=\"text-align: right;\">\n",
       "      <th></th>\n",
       "      <th>Order ID</th>\n",
       "      <th>Ship Mode</th>\n",
       "      <th>Customer ID</th>\n",
       "      <th>Customer Name</th>\n",
       "      <th>Segment</th>\n",
       "      <th>City</th>\n",
       "      <th>State</th>\n",
       "      <th>Country</th>\n",
       "      <th>Market</th>\n",
       "      <th>Region</th>\n",
       "      <th>Product ID</th>\n",
       "      <th>Category</th>\n",
       "      <th>Sub-Category</th>\n",
       "      <th>Product Name</th>\n",
       "      <th>Order Priority</th>\n",
       "    </tr>\n",
       "  </thead>\n",
       "  <tbody>\n",
       "    <tr>\n",
       "      <th>count</th>\n",
       "      <td>51290</td>\n",
       "      <td>51290</td>\n",
       "      <td>51290</td>\n",
       "      <td>51290</td>\n",
       "      <td>51290</td>\n",
       "      <td>51290</td>\n",
       "      <td>51290</td>\n",
       "      <td>51290</td>\n",
       "      <td>51290</td>\n",
       "      <td>51290</td>\n",
       "      <td>51290</td>\n",
       "      <td>51290</td>\n",
       "      <td>51290</td>\n",
       "      <td>51290</td>\n",
       "      <td>51290</td>\n",
       "    </tr>\n",
       "    <tr>\n",
       "      <th>unique</th>\n",
       "      <td>25035</td>\n",
       "      <td>4</td>\n",
       "      <td>1590</td>\n",
       "      <td>795</td>\n",
       "      <td>3</td>\n",
       "      <td>3636</td>\n",
       "      <td>1094</td>\n",
       "      <td>147</td>\n",
       "      <td>7</td>\n",
       "      <td>13</td>\n",
       "      <td>10292</td>\n",
       "      <td>3</td>\n",
       "      <td>17</td>\n",
       "      <td>3788</td>\n",
       "      <td>4</td>\n",
       "    </tr>\n",
       "    <tr>\n",
       "      <th>top</th>\n",
       "      <td>CA-2014-100111</td>\n",
       "      <td>Standard Class</td>\n",
       "      <td>PO-18850</td>\n",
       "      <td>Muhammed Yedwab</td>\n",
       "      <td>Consumer</td>\n",
       "      <td>New York City</td>\n",
       "      <td>California</td>\n",
       "      <td>United States</td>\n",
       "      <td>APAC</td>\n",
       "      <td>Central</td>\n",
       "      <td>OFF-AR-10003651</td>\n",
       "      <td>Office Supplies</td>\n",
       "      <td>Binders</td>\n",
       "      <td>Staples</td>\n",
       "      <td>Medium</td>\n",
       "    </tr>\n",
       "    <tr>\n",
       "      <th>freq</th>\n",
       "      <td>14</td>\n",
       "      <td>30775</td>\n",
       "      <td>97</td>\n",
       "      <td>108</td>\n",
       "      <td>26518</td>\n",
       "      <td>915</td>\n",
       "      <td>2001</td>\n",
       "      <td>9994</td>\n",
       "      <td>11002</td>\n",
       "      <td>11117</td>\n",
       "      <td>35</td>\n",
       "      <td>31273</td>\n",
       "      <td>6152</td>\n",
       "      <td>227</td>\n",
       "      <td>29433</td>\n",
       "    </tr>\n",
       "  </tbody>\n",
       "</table>\n",
       "</div>"
      ],
      "text/plain": [
       "              Order ID       Ship Mode Customer ID    Customer Name   Segment  \\\n",
       "count            51290           51290       51290            51290     51290   \n",
       "unique           25035               4        1590              795         3   \n",
       "top     CA-2014-100111  Standard Class    PO-18850  Muhammed Yedwab  Consumer   \n",
       "freq                14           30775          97              108     26518   \n",
       "\n",
       "                 City       State        Country Market   Region  \\\n",
       "count           51290       51290          51290  51290    51290   \n",
       "unique           3636        1094            147      7       13   \n",
       "top     New York City  California  United States   APAC  Central   \n",
       "freq              915        2001           9994  11002    11117   \n",
       "\n",
       "             Product ID         Category Sub-Category Product Name  \\\n",
       "count             51290            51290        51290        51290   \n",
       "unique            10292                3           17         3788   \n",
       "top     OFF-AR-10003651  Office Supplies      Binders      Staples   \n",
       "freq                 35            31273         6152          227   \n",
       "\n",
       "       Order Priority  \n",
       "count           51290  \n",
       "unique              4  \n",
       "top            Medium  \n",
       "freq            29433  "
      ]
     },
     "execution_count": 30,
     "metadata": {},
     "output_type": "execute_result"
    }
   ],
   "source": [
    "df_cat.describe(include=\"all\") #Summary statistics for all columns in df_cat"
   ]
  },
  {
   "cell_type": "code",
   "execution_count": null,
   "id": "1c52ebb4-8529-4c50-a52b-7fd865d8d831",
   "metadata": {},
   "outputs": [],
   "source": [
    "#IMPUTATIONS"
   ]
  },
  {
   "cell_type": "code",
   "execution_count": 32,
   "id": "f62fad80-601b-4c7c-9541-5c2493a126cc",
   "metadata": {},
   "outputs": [
    {
     "data": {
      "text/plain": [
       "Postal Code      41296\n",
       "Row ID               0\n",
       "Sales                0\n",
       "Quantity             0\n",
       "Discount             0\n",
       "Profit               0\n",
       "Shipping Cost        0\n",
       "dtype: int64"
      ]
     },
     "execution_count": 32,
     "metadata": {},
     "output_type": "execute_result"
    }
   ],
   "source": [
    "df_num.isnull().sum().sort_values(ascending=False) #Check for missing values in each numerical column and sort them in descending order"
   ]
  },
  {
   "cell_type": "code",
   "execution_count": 36,
   "id": "acab92c7-95d5-4c52-a6c3-2569572f1656",
   "metadata": {},
   "outputs": [
    {
     "data": {
      "text/plain": [
       "Order ID          0\n",
       "Ship Mode         0\n",
       "Customer ID       0\n",
       "Customer Name     0\n",
       "Segment           0\n",
       "City              0\n",
       "State             0\n",
       "Country           0\n",
       "Market            0\n",
       "Region            0\n",
       "Product ID        0\n",
       "Category          0\n",
       "Sub-Category      0\n",
       "Product Name      0\n",
       "Order Priority    0\n",
       "dtype: int64"
      ]
     },
     "execution_count": 36,
     "metadata": {},
     "output_type": "execute_result"
    }
   ],
   "source": [
    "df_cat.isnull().sum().sort_values(ascending=False) #Check for missing values in each categorical column and sort them in descending order"
   ]
  },
  {
   "cell_type": "code",
   "execution_count": 38,
   "id": "79b7f8d4-676f-483d-9f11-4fd7f1116498",
   "metadata": {},
   "outputs": [
    {
     "name": "stdout",
     "output_type": "stream",
     "text": [
      "55190.3794276566\n",
      "56430.5\n"
     ]
    }
   ],
   "source": [
    "print(df_num['Postal Code'].mean()) #Calculate and print the mean of the 'Postal Code' column\n",
    "print(df_num['Postal Code'].median()) ## Calculate and print the median of the 'Postal Code' column"
   ]
  },
  {
   "cell_type": "code",
   "execution_count": 118,
   "id": "4a58ffeb-b601-451a-8549-8ea814452f6f",
   "metadata": {},
   "outputs": [
    {
     "name": "stderr",
     "output_type": "stream",
     "text": [
      "C:\\Users\\vaibh\\AppData\\Local\\Temp\\ipykernel_48932\\1274838861.py:4: FutureWarning: A value is trying to be set on a copy of a DataFrame or Series through chained assignment using an inplace method.\n",
      "The behavior will change in pandas 3.0. This inplace method will never work because the intermediate object on which we are setting values always behaves as a copy.\n",
      "\n",
      "For example, when doing 'df[col].method(value, inplace=True)', try using 'df.method({col: value}, inplace=True)' or df[col] = df[col].method(value) instead, to perform the operation inplace on the original object.\n",
      "\n",
      "\n",
      "  df_num[col].fillna(df_num[col].median(), inplace=True)\n"
     ]
    }
   ],
   "source": [
    "# Iterate over the list of columns to fill missing values\n",
    "for col in [\"Postal Code\"]:\n",
    "    # Fill missing values in the 'Postal Code' column with the median value of that column\n",
    "    df_num[col].fillna(df_num[col].median(), inplace=True)\n",
    "    # 'df_num[col].fillna(value, inplace=True)' replaces NaN with the specified value directly in the original DataFrame\n",
    "    # 'df_num[col].median()' calculates the median value of the 'Postal Code' column\n",
    "    # 'inplace=True' ensures that the changes are made directly in the original DataFrame"
   ]
  },
  {
   "cell_type": "code",
   "execution_count": 120,
   "id": "e9c234ec-6ede-48e1-a607-2a6deb9baeb2",
   "metadata": {},
   "outputs": [
    {
     "data": {
      "text/plain": [
       "Row ID           0\n",
       "Postal Code      0\n",
       "Sales            0\n",
       "Quantity         0\n",
       "Discount         0\n",
       "Profit           0\n",
       "Shipping Cost    0\n",
       "dtype: int64"
      ]
     },
     "execution_count": 120,
     "metadata": {},
     "output_type": "execute_result"
    }
   ],
   "source": [
    "df_num.isnull().sum().sort_values(ascending=False) #Check for missing values in each numerical column and sort them in descending order"
   ]
  },
  {
   "cell_type": "code",
   "execution_count": null,
   "id": "7d9e7a76-63f5-4f51-9fa4-e6939bed4edb",
   "metadata": {},
   "outputs": [],
   "source": [
    "#Correlationship between numerical columns and numerical target"
   ]
  },
  {
   "cell_type": "code",
   "execution_count": 46,
   "id": "2b153990-1c6d-40a1-a4c1-ad9a2e9c8870",
   "metadata": {},
   "outputs": [],
   "source": [
    "df_num_corr=df_num.corr() #Calculate the correlation matrix for the numerical DataFrame"
   ]
  },
  {
   "cell_type": "code",
   "execution_count": 48,
   "id": "cd54041b-df73-4ac3-b06b-2f5d11bf46da",
   "metadata": {},
   "outputs": [
    {
     "data": {
      "text/plain": [
       "Row ID          -0.039076\n",
       "Postal Code     -0.010795\n",
       "Sales            0.768073\n",
       "Quantity         0.272649\n",
       "Discount        -0.079055\n",
       "Profit           0.354441\n",
       "Shipping Cost    1.000000\n",
       "Name: Shipping Cost, dtype: float64"
      ]
     },
     "execution_count": 48,
     "metadata": {},
     "output_type": "execute_result"
    }
   ],
   "source": [
    "df_num_corr[\"Shipping Cost\"] #Display the correlation values of 'Shipping Cost' with other numerical columns"
   ]
  },
  {
   "cell_type": "code",
   "execution_count": 50,
   "id": "15027168-5980-4d1b-8315-80b71409d073",
   "metadata": {},
   "outputs": [],
   "source": [
    "# Initialize an empty list to store the names of numerical columns\n",
    "df_num_cols = []\n",
    "\n",
    "# Extend the list with column names where the correlation with 'Shipping Cost' is greater than 0.3\n",
    "df_num_cols.extend(df_num_corr[(df_num_corr[\"Shipping Cost\"] > 0.3)].index.values)\n",
    "\n",
    "# Extend the list with column names where the correlation with 'Shipping Cost' is less than -0.3\n",
    "df_num_cols.extend(df_num_corr[(df_num_corr[\"Shipping Cost\"] < -0.3)].index.values)"
   ]
  },
  {
   "cell_type": "code",
   "execution_count": 56,
   "id": "6e0f82cc-007b-4545-a959-cff575976dbe",
   "metadata": {},
   "outputs": [
    {
     "data": {
      "text/plain": [
       "['Sales', 'Profit', 'Shipping Cost']"
      ]
     },
     "execution_count": 56,
     "metadata": {},
     "output_type": "execute_result"
    }
   ],
   "source": [
    "df_num_cols #Display the columns with strong correlation to 'Shipping Cost'"
   ]
  },
  {
   "cell_type": "code",
   "execution_count": null,
   "id": "b63694de-5d90-4a39-8b99-29a0e3114030",
   "metadata": {},
   "outputs": [],
   "source": [
    "#Correlationship between categorical columns and continous target variable using one way ANNOVA"
   ]
  },
  {
   "cell_type": "code",
   "execution_count": 58,
   "id": "42a5dc4e-e1a5-438a-b47c-3b9502f291fd",
   "metadata": {},
   "outputs": [],
   "source": [
    "from scipy.stats import f_oneway #Import the f_oneway function from the scipy.stats module"
   ]
  },
  {
   "cell_type": "code",
   "execution_count": 62,
   "id": "3bf2954a-b313-4101-a452-e0172fd7366f",
   "metadata": {},
   "outputs": [],
   "source": [
    "df_cat['sc']=df_num['Shipping Cost'] #Add a new column 'sc' to df_cat with values from the 'Shipping Cost' column in df_num"
   ]
  },
  {
   "cell_type": "code",
   "execution_count": 64,
   "id": "e63b61d5-63e4-43a5-aab1-d5e753887e97",
   "metadata": {},
   "outputs": [
    {
     "name": "stdout",
     "output_type": "stream",
     "text": [
      "F-statistic: 728.2682583222323, P-value: 0.0\n"
     ]
    }
   ],
   "source": [
    "# Create groups of 'Shipping Cost' based on 'Order Priority' categories\n",
    "groups = [df_cat['sc'][df_cat['Order Priority'] == category] for category in df_cat['Order Priority'].unique()]\n",
    "\n",
    "# Perform ANOVA\n",
    "f_stat, p_value = f_oneway(*groups)\n",
    "\n",
    "#Display The Results\n",
    "print(f\"F-statistic: {f_stat}, P-value: {p_value}\")"
   ]
  },
  {
   "cell_type": "code",
   "execution_count": 66,
   "id": "945058b9-e34c-4ffe-b364-27de806bacf1",
   "metadata": {},
   "outputs": [
    {
     "name": "stdout",
     "output_type": "stream",
     "text": [
      "column : Order ID, F-statistic: 1.1508852209151073, P-value: 1.1484768357816765e-29\n",
      "column : Ship Mode, F-statistic: 393.92528752905145, P-value: 5.3240110153517756e-253\n",
      "column : Customer ID, F-statistic: 1.0410238622837424, P-value: 0.12843361313887533\n",
      "column : Customer Name, F-statistic: 1.0580216670464024, P-value: 0.12682165839249232\n",
      "column : Segment, F-statistic: 0.17978286397551554, P-value: 0.8354521248683504\n",
      "column : City, F-statistic: 1.3689127246327235, P-value: 6.91061480036238e-42\n",
      "column : State, F-statistic: 1.9804538097992874, P-value: 1.3472485154371034e-70\n",
      "column : Country, F-statistic: 7.698295846906216, P-value: 1.5746983547701946e-148\n",
      "column : Market, F-statistic: 97.96104603299906, P-value: 5.278005070444385e-123\n",
      "column : Region, F-statistic: 45.031702526353655, P-value: 2.1707550389789433e-107\n",
      "column : Product ID, F-statistic: 5.133263844493666, P-value: 0.0\n",
      "column : Category, F-statistic: 2427.1241293148278, P-value: 0.0\n",
      "column : Sub-Category, F-statistic: 671.7113087986611, P-value: 0.0\n",
      "column : Product Name, F-statistic: 10.808361173927358, P-value: 0.0\n",
      "column : Order Priority, F-statistic: 728.2682583222323, P-value: 0.0\n"
     ]
    }
   ],
   "source": [
    "# Initialize empty lists to store column names\n",
    "c_list = []\n",
    "nc_list = []\n",
    "\n",
    "# Iterate over each column in df_cat\n",
    "for c1 in list(df_cat.columns):\n",
    "    if c1 == 'sc':\n",
    "        continue\n",
    "    else:\n",
    "        # Create groups of 'sc' values based on unique categories in the current column\n",
    "        groups = [df_cat['sc'][df_cat[c1] == category] for category in df_cat[c1].unique()]\n",
    "        \n",
    "        # Perform ANOVA\n",
    "        f_stat, p_value = f_oneway(*groups)\n",
    "        \n",
    "        # Print the results for the current column\n",
    "        print(f\"column: {c1}, F-statistic: {f_stat}, P-value: {p_value}\")\n",
    "        \n",
    "        # Classify the column based on the p-value\n",
    "        if p_value < 0.05:\n",
    "            c_list.append(c1)  # Columns with significant differences\n",
    "        else:\n",
    "            nc_list.append(c1)  # Columns without significant differences"
   ]
  },
  {
   "cell_type": "code",
   "execution_count": 79,
   "id": "da03850c-f5aa-4506-a8a7-dcdbaf7fe905",
   "metadata": {},
   "outputs": [
    {
     "data": {
      "text/plain": [
       "['Order ID',\n",
       " 'Ship Mode',\n",
       " 'City',\n",
       " 'State',\n",
       " 'Country',\n",
       " 'Market',\n",
       " 'Region',\n",
       " 'Product ID',\n",
       " 'Category',\n",
       " 'Sub-Category',\n",
       " 'Product Name',\n",
       " 'Order Priority']"
      ]
     },
     "execution_count": 79,
     "metadata": {},
     "output_type": "execute_result"
    }
   ],
   "source": [
    "c_list #Display the columns with significant differences in 'Shipping Cost'"
   ]
  },
  {
   "cell_type": "code",
   "execution_count": 80,
   "id": "8b254240-c230-48a2-ab1f-cca6d017ebd0",
   "metadata": {},
   "outputs": [
    {
     "data": {
      "text/plain": [
       "['Customer ID', 'Customer Name', 'Segment']"
      ]
     },
     "execution_count": 80,
     "metadata": {},
     "output_type": "execute_result"
    }
   ],
   "source": [
    "nc_list #Display the columns without significant differences in 'Shipping Cost'"
   ]
  },
  {
   "cell_type": "code",
   "execution_count": 81,
   "id": "dce64125-547d-47d8-87d2-6f00b8ac0d85",
   "metadata": {},
   "outputs": [],
   "source": [
    "df_cat1=df_cat[c_list] #Create a new DataFrame 'df_cat1' with columns that have significant differences in 'Shipping Cost'"
   ]
  },
  {
   "cell_type": "code",
   "execution_count": 82,
   "id": "eadfd910-4539-4815-84c9-5cc21f499fd8",
   "metadata": {},
   "outputs": [
    {
     "data": {
      "text/plain": [
       "Index(['Order ID', 'Ship Mode', 'City', 'State', 'Country', 'Market', 'Region',\n",
       "       'Product ID', 'Category', 'Sub-Category', 'Product Name',\n",
       "       'Order Priority'],\n",
       "      dtype='object')"
      ]
     },
     "execution_count": 82,
     "metadata": {},
     "output_type": "execute_result"
    }
   ],
   "source": [
    "df_cat1.columns #list the df_cat1 columns"
   ]
  },
  {
   "cell_type": "code",
   "execution_count": 83,
   "id": "0a782473-501a-4526-8530-22fe7fb4e5fd",
   "metadata": {},
   "outputs": [
    {
     "data": {
      "text/html": [
       "<div>\n",
       "<style scoped>\n",
       "    .dataframe tbody tr th:only-of-type {\n",
       "        vertical-align: middle;\n",
       "    }\n",
       "\n",
       "    .dataframe tbody tr th {\n",
       "        vertical-align: top;\n",
       "    }\n",
       "\n",
       "    .dataframe thead th {\n",
       "        text-align: right;\n",
       "    }\n",
       "</style>\n",
       "<table border=\"1\" class=\"dataframe\">\n",
       "  <thead>\n",
       "    <tr style=\"text-align: right;\">\n",
       "      <th></th>\n",
       "      <th>Order ID</th>\n",
       "      <th>Ship Mode</th>\n",
       "      <th>City</th>\n",
       "      <th>State</th>\n",
       "      <th>Country</th>\n",
       "      <th>Market</th>\n",
       "      <th>Region</th>\n",
       "      <th>Product ID</th>\n",
       "      <th>Category</th>\n",
       "      <th>Sub-Category</th>\n",
       "      <th>Product Name</th>\n",
       "      <th>Order Priority</th>\n",
       "    </tr>\n",
       "  </thead>\n",
       "  <tbody>\n",
       "    <tr>\n",
       "      <th>0</th>\n",
       "      <td>CA-2012-124891</td>\n",
       "      <td>Same Day</td>\n",
       "      <td>New York City</td>\n",
       "      <td>New York</td>\n",
       "      <td>United States</td>\n",
       "      <td>US</td>\n",
       "      <td>East</td>\n",
       "      <td>TEC-AC-10003033</td>\n",
       "      <td>Technology</td>\n",
       "      <td>Accessories</td>\n",
       "      <td>Plantronics CS510 - Over-the-Head monaural Wir...</td>\n",
       "      <td>Critical</td>\n",
       "    </tr>\n",
       "    <tr>\n",
       "      <th>1</th>\n",
       "      <td>IN-2013-77878</td>\n",
       "      <td>Second Class</td>\n",
       "      <td>Wollongong</td>\n",
       "      <td>New South Wales</td>\n",
       "      <td>Australia</td>\n",
       "      <td>APAC</td>\n",
       "      <td>Oceania</td>\n",
       "      <td>FUR-CH-10003950</td>\n",
       "      <td>Furniture</td>\n",
       "      <td>Chairs</td>\n",
       "      <td>Novimex Executive Leather Armchair, Black</td>\n",
       "      <td>Critical</td>\n",
       "    </tr>\n",
       "    <tr>\n",
       "      <th>2</th>\n",
       "      <td>IN-2013-71249</td>\n",
       "      <td>First Class</td>\n",
       "      <td>Brisbane</td>\n",
       "      <td>Queensland</td>\n",
       "      <td>Australia</td>\n",
       "      <td>APAC</td>\n",
       "      <td>Oceania</td>\n",
       "      <td>TEC-PH-10004664</td>\n",
       "      <td>Technology</td>\n",
       "      <td>Phones</td>\n",
       "      <td>Nokia Smart Phone, with Caller ID</td>\n",
       "      <td>Medium</td>\n",
       "    </tr>\n",
       "    <tr>\n",
       "      <th>3</th>\n",
       "      <td>ES-2013-1579342</td>\n",
       "      <td>First Class</td>\n",
       "      <td>Berlin</td>\n",
       "      <td>Berlin</td>\n",
       "      <td>Germany</td>\n",
       "      <td>EU</td>\n",
       "      <td>Central</td>\n",
       "      <td>TEC-PH-10004583</td>\n",
       "      <td>Technology</td>\n",
       "      <td>Phones</td>\n",
       "      <td>Motorola Smart Phone, Cordless</td>\n",
       "      <td>Medium</td>\n",
       "    </tr>\n",
       "    <tr>\n",
       "      <th>4</th>\n",
       "      <td>SG-2013-4320</td>\n",
       "      <td>Same Day</td>\n",
       "      <td>Dakar</td>\n",
       "      <td>Dakar</td>\n",
       "      <td>Senegal</td>\n",
       "      <td>Africa</td>\n",
       "      <td>Africa</td>\n",
       "      <td>TEC-SHA-10000501</td>\n",
       "      <td>Technology</td>\n",
       "      <td>Copiers</td>\n",
       "      <td>Sharp Wireless Fax, High-Speed</td>\n",
       "      <td>Critical</td>\n",
       "    </tr>\n",
       "  </tbody>\n",
       "</table>\n",
       "</div>"
      ],
      "text/plain": [
       "          Order ID     Ship Mode           City            State  \\\n",
       "0   CA-2012-124891      Same Day  New York City         New York   \n",
       "1    IN-2013-77878  Second Class     Wollongong  New South Wales   \n",
       "2    IN-2013-71249   First Class       Brisbane       Queensland   \n",
       "3  ES-2013-1579342   First Class         Berlin           Berlin   \n",
       "4     SG-2013-4320      Same Day          Dakar            Dakar   \n",
       "\n",
       "         Country  Market   Region        Product ID    Category Sub-Category  \\\n",
       "0  United States      US     East   TEC-AC-10003033  Technology  Accessories   \n",
       "1      Australia    APAC  Oceania   FUR-CH-10003950   Furniture       Chairs   \n",
       "2      Australia    APAC  Oceania   TEC-PH-10004664  Technology       Phones   \n",
       "3        Germany      EU  Central   TEC-PH-10004583  Technology       Phones   \n",
       "4        Senegal  Africa   Africa  TEC-SHA-10000501  Technology      Copiers   \n",
       "\n",
       "                                        Product Name Order Priority  \n",
       "0  Plantronics CS510 - Over-the-Head monaural Wir...       Critical  \n",
       "1          Novimex Executive Leather Armchair, Black       Critical  \n",
       "2                  Nokia Smart Phone, with Caller ID         Medium  \n",
       "3                     Motorola Smart Phone, Cordless         Medium  \n",
       "4                     Sharp Wireless Fax, High-Speed       Critical  "
      ]
     },
     "execution_count": 83,
     "metadata": {},
     "output_type": "execute_result"
    }
   ],
   "source": [
    "df_cat1.head() #get first 5 rows"
   ]
  },
  {
   "cell_type": "code",
   "execution_count": 84,
   "id": "2be42b55-85e1-4d75-9f96-1c8c069e9c4f",
   "metadata": {},
   "outputs": [],
   "source": [
    "# Import LabelEncoder from sklearn for encoding categorical labels as numeric values\n",
    "from sklearn.preprocessing import LabelEncoder"
   ]
  },
  {
   "cell_type": "code",
   "execution_count": 85,
   "id": "d8b22724-5edc-43d6-8f34-081ae1df09a0",
   "metadata": {},
   "outputs": [],
   "source": [
    "le=LabelEncoder() #Instantiate the LabelEncoder object for encoding categorical variables"
   ]
  },
  {
   "cell_type": "code",
   "execution_count": 86,
   "id": "d2a8c78f-6a69-4843-ba7a-4964dd415f70",
   "metadata": {},
   "outputs": [],
   "source": [
    "df_cat1_e = df_cat1.apply(le.fit_transform) #Encode categorical variables in df_cat1"
   ]
  },
  {
   "cell_type": "code",
   "execution_count": 87,
   "id": "f13be855-184f-41c6-b948-eab8dcd0d72d",
   "metadata": {},
   "outputs": [
    {
     "data": {
      "text/html": [
       "<div>\n",
       "<style scoped>\n",
       "    .dataframe tbody tr th:only-of-type {\n",
       "        vertical-align: middle;\n",
       "    }\n",
       "\n",
       "    .dataframe tbody tr th {\n",
       "        vertical-align: top;\n",
       "    }\n",
       "\n",
       "    .dataframe thead th {\n",
       "        text-align: right;\n",
       "    }\n",
       "</style>\n",
       "<table border=\"1\" class=\"dataframe\">\n",
       "  <thead>\n",
       "    <tr style=\"text-align: right;\">\n",
       "      <th></th>\n",
       "      <th>Order ID</th>\n",
       "      <th>Ship Mode</th>\n",
       "      <th>City</th>\n",
       "      <th>State</th>\n",
       "      <th>Country</th>\n",
       "      <th>Market</th>\n",
       "      <th>Region</th>\n",
       "      <th>Product ID</th>\n",
       "      <th>Category</th>\n",
       "      <th>Sub-Category</th>\n",
       "      <th>Product Name</th>\n",
       "      <th>Order Priority</th>\n",
       "    </tr>\n",
       "  </thead>\n",
       "  <tbody>\n",
       "    <tr>\n",
       "      <th>0</th>\n",
       "      <td>1499</td>\n",
       "      <td>1</td>\n",
       "      <td>2290</td>\n",
       "      <td>703</td>\n",
       "      <td>139</td>\n",
       "      <td>6</td>\n",
       "      <td>6</td>\n",
       "      <td>8246</td>\n",
       "      <td>2</td>\n",
       "      <td>0</td>\n",
       "      <td>2750</td>\n",
       "      <td>0</td>\n",
       "    </tr>\n",
       "    <tr>\n",
       "      <th>1</th>\n",
       "      <td>13063</td>\n",
       "      <td>2</td>\n",
       "      <td>3518</td>\n",
       "      <td>702</td>\n",
       "      <td>6</td>\n",
       "      <td>0</td>\n",
       "      <td>9</td>\n",
       "      <td>907</td>\n",
       "      <td>0</td>\n",
       "      <td>5</td>\n",
       "      <td>2525</td>\n",
       "      <td>0</td>\n",
       "    </tr>\n",
       "    <tr>\n",
       "      <th>2</th>\n",
       "      <td>12983</td>\n",
       "      <td>0</td>\n",
       "      <td>497</td>\n",
       "      <td>820</td>\n",
       "      <td>6</td>\n",
       "      <td>0</td>\n",
       "      <td>9</td>\n",
       "      <td>10157</td>\n",
       "      <td>2</td>\n",
       "      <td>13</td>\n",
       "      <td>2502</td>\n",
       "      <td>3</td>\n",
       "    </tr>\n",
       "    <tr>\n",
       "      <th>3</th>\n",
       "      <td>6813</td>\n",
       "      <td>0</td>\n",
       "      <td>375</td>\n",
       "      <td>145</td>\n",
       "      <td>47</td>\n",
       "      <td>4</td>\n",
       "      <td>3</td>\n",
       "      <td>10146</td>\n",
       "      <td>2</td>\n",
       "      <td>13</td>\n",
       "      <td>2414</td>\n",
       "      <td>3</td>\n",
       "    </tr>\n",
       "    <tr>\n",
       "      <th>4</th>\n",
       "      <td>21702</td>\n",
       "      <td>1</td>\n",
       "      <td>857</td>\n",
       "      <td>270</td>\n",
       "      <td>110</td>\n",
       "      <td>1</td>\n",
       "      <td>0</td>\n",
       "      <td>10249</td>\n",
       "      <td>2</td>\n",
       "      <td>6</td>\n",
       "      <td>3158</td>\n",
       "      <td>0</td>\n",
       "    </tr>\n",
       "  </tbody>\n",
       "</table>\n",
       "</div>"
      ],
      "text/plain": [
       "   Order ID  Ship Mode  City  State  Country  Market  Region  Product ID  \\\n",
       "0      1499          1  2290    703      139       6       6        8246   \n",
       "1     13063          2  3518    702        6       0       9         907   \n",
       "2     12983          0   497    820        6       0       9       10157   \n",
       "3      6813          0   375    145       47       4       3       10146   \n",
       "4     21702          1   857    270      110       1       0       10249   \n",
       "\n",
       "   Category  Sub-Category  Product Name  Order Priority  \n",
       "0         2             0          2750               0  \n",
       "1         0             5          2525               0  \n",
       "2         2            13          2502               3  \n",
       "3         2            13          2414               3  \n",
       "4         2             6          3158               0  "
      ]
     },
     "execution_count": 87,
     "metadata": {},
     "output_type": "execute_result"
    }
   ],
   "source": [
    "df_cat1_e.head() #Display the first 5 rows of df_cat1_e"
   ]
  },
  {
   "cell_type": "code",
   "execution_count": 88,
   "id": "73aad2ea-7912-461f-be37-f3a45b675b22",
   "metadata": {},
   "outputs": [
    {
     "data": {
      "text/plain": [
       "(51290, 12)"
      ]
     },
     "execution_count": 88,
     "metadata": {},
     "output_type": "execute_result"
    }
   ],
   "source": [
    "df_cat1.shape #Get the dimensions of df_cat1"
   ]
  },
  {
   "cell_type": "code",
   "execution_count": null,
   "id": "3d581b53-1872-48cc-a463-5aea1b4cdac3",
   "metadata": {},
   "outputs": [],
   "source": [
    "#Onehot encoding\n",
    "#method1"
   ]
  },
  {
   "cell_type": "code",
   "execution_count": 100,
   "id": "9b8945f1-340d-460c-9af5-1601b2f306ee",
   "metadata": {},
   "outputs": [],
   "source": [
    "# One-hot encode all categorical columns in df_cat1\n",
    "df_encoded = pd.get_dummies(df_cat1, columns=df_cat1.columns)"
   ]
  },
  {
   "cell_type": "code",
   "execution_count": 101,
   "id": "a5c615b4-c99b-43a0-877b-648706a2359e",
   "metadata": {},
   "outputs": [
    {
     "data": {
      "text/plain": [
       "(51290, 44040)"
      ]
     },
     "execution_count": 101,
     "metadata": {},
     "output_type": "execute_result"
    }
   ],
   "source": [
    "# Get the dimensions of df_encoded\n",
    "df_encoded.shape"
   ]
  },
  {
   "cell_type": "code",
   "execution_count": null,
   "id": "0c77b9fe-023c-4013-9595-8ec69ed33082",
   "metadata": {},
   "outputs": [],
   "source": [
    "#method2"
   ]
  },
  {
   "cell_type": "code",
   "execution_count": 104,
   "id": "3f6ceecd-2eb3-4569-ac49-9ac5c1ae3e87",
   "metadata": {},
   "outputs": [],
   "source": [
    "# Import OneHotEncoder from sklearn for encoding categorical variables as one-hot vectors\n",
    "from sklearn.preprocessing import OneHotEncoder"
   ]
  },
  {
   "cell_type": "code",
   "execution_count": 106,
   "id": "7e1ea102-8426-4c24-b175-8e8c566957f9",
   "metadata": {},
   "outputs": [],
   "source": [
    "# Instantiate OneHotEncoder with dense output and ignore unknown categories\n",
    "encoder = OneHotEncoder(sparse_output=False, handle_unknown='ignore')"
   ]
  },
  {
   "cell_type": "code",
   "execution_count": 124,
   "id": "6ab3ce41-4776-42ed-9578-febb83ec3f30",
   "metadata": {},
   "outputs": [],
   "source": [
    "# One-hot encode the categorical variables in df_cat1\n",
    "encoded_array = encoder.fit_transform(df_cat1)\n",
    "\n",
    "# Convert the encoded array to a DataFrame with appropriate column names\n",
    "encoded_df = pd.DataFrame(encoded_array, columns=encoder.get_feature_names_out(df_cat1.columns))"
   ]
  },
  {
   "cell_type": "code",
   "execution_count": 122,
   "id": "aca79629-6e92-4e17-9089-b396a8abac1e",
   "metadata": {},
   "outputs": [
    {
     "data": {
      "text/plain": [
       "(51290, 44040)"
      ]
     },
     "execution_count": 122,
     "metadata": {},
     "output_type": "execute_result"
    }
   ],
   "source": [
    "# Get the dimensions of encoded_df\n",
    "encoded_df.shape"
   ]
  },
  {
   "cell_type": "code",
   "execution_count": null,
   "id": "1913353b-32cd-4571-b418-1b7fe52e4176",
   "metadata": {},
   "outputs": [],
   "source": [
    "#Outlier treatment IQR"
   ]
  },
  {
   "cell_type": "code",
   "execution_count": 126,
   "id": "e7236c02-4ef4-4e56-b706-0b7f7b606b41",
   "metadata": {},
   "outputs": [],
   "source": [
    "#Function to remove outliers using the IQR method \n",
    "def remove_outliers_iqr(df, columns): \n",
    "    for col in columns: \n",
    "        Q1 = df[col].quantile(0.25) # First quartile (25th percentile) \n",
    "        Q3 = df[col].quantile(0.75) # Third quartile (75th percentile) \n",
    "        IQR = Q3 - Q1 # Interquartile range \n",
    "        lower_bound = Q1 - 1.5 * IQR # Lower bound \n",
    "        upper_bound = Q3 + 1.5 * IQR # Upper bound \n",
    "    \n",
    "    #Filter out outliers based on IQR \n",
    "    df = df[(df[col] >= lower_bound) & (df[col] <= upper_bound)] \n",
    "    \n",
    "    return df"
   ]
  },
  {
   "cell_type": "code",
   "execution_count": 130,
   "id": "05a3dca2-b58c-4777-a807-e71b06c51280",
   "metadata": {},
   "outputs": [
    {
     "name": "stdout",
     "output_type": "stream",
     "text": [
      "Original DataFrame:\n",
      "(51290, 7)\n",
      "\n",
      "DataFrame after Outlier Treatment:\n",
      "(45381, 7)\n"
     ]
    }
   ],
   "source": [
    "# Define the columns to check for outliers\n",
    "columns_to_check = ['Sales', 'Profit', 'Shipping Cost']\n",
    "\n",
    "# Remove outliers from the specified columns in df_num\n",
    "df_no_outliers = remove_outliers_iqr(df_num, columns_to_check)\n",
    "\n",
    "# Print the dimensions of the original DataFrame\n",
    "print(\"Original DataFrame:\")\n",
    "print(df_num.shape)\n",
    "\n",
    "# Print the dimensions of the DataFrame after outlier treatment\n",
    "print(\"\\nDataFrame after Outlier Treatment:\")\n",
    "print(df_no_outliers.shape)"
   ]
  }
 ],
 "metadata": {
  "kernelspec": {
   "display_name": "Python 3 (ipykernel)",
   "language": "python",
   "name": "python3"
  },
  "language_info": {
   "codemirror_mode": {
    "name": "ipython",
    "version": 3
   },
   "file_extension": ".py",
   "mimetype": "text/x-python",
   "name": "python",
   "nbconvert_exporter": "python",
   "pygments_lexer": "ipython3",
   "version": "3.12.4"
  }
 },
 "nbformat": 4,
 "nbformat_minor": 5
}
